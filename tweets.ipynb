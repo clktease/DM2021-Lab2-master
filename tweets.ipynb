{
 "cells": [
  {
   "cell_type": "code",
   "execution_count": 1,
   "id": "993a5ec4",
   "metadata": {},
   "outputs": [
    {
     "name": "stdout",
     "output_type": "stream",
     "text": [
      "1 Physical GPUs, 1 Logical GPUs\n",
      "1867535\n"
     ]
    }
   ],
   "source": [
    "import numpy as np\n",
    "import json\n",
    "import tensorflow as tf\n",
    "\n",
    "\n",
    "gpus = tf.config.experimental.list_physical_devices('GPU')\n",
    "if gpus:\n",
    "    # Restrict TensorFlow to only allocate 5GB of memory on the first GPU\n",
    "    try:\n",
    "        tf.config.experimental.set_virtual_device_configuration(\n",
    "        gpus[0],\n",
    "        [tf.config.experimental.VirtualDeviceConfiguration(memory_limit=5120)])\n",
    "        logical_gpus = tf.config.experimental.list_logical_devices('GPU')\n",
    "        print(len(gpus), \"Physical GPUs,\", len(logical_gpus), \"Logical GPUs\")\n",
    "    except RuntimeError as e:\n",
    "        # Virtual devices must be set before GPUs have been initialized\n",
    "        print(e)\n",
    "\n",
    "#read data\n",
    "file = open(\"tweets_DM.json\", 'r', encoding='utf-8')\n",
    "tweet = []\n",
    "for line in file.readlines():\n",
    "    t = json.loads(line)\n",
    "    tweet.append(t)\n",
    "\n",
    "print(len(tweet))\n",
    "\n"
   ]
  },
  {
   "cell_type": "code",
   "execution_count": 2,
   "id": "305c39bb",
   "metadata": {},
   "outputs": [
    {
     "name": "stdout",
     "output_type": "stream",
     "text": [
      "trust\n"
     ]
    }
   ],
   "source": [
    "emo = (open(\"emotion.csv\", 'r', encoding='utf-8'))\n",
    "emot = {}\n",
    "#record the emotion\n",
    "for x in emo:\n",
    "    s = x.split(',')\n",
    "    emot[s[0]] = s[1].split('\\n')[0] \n",
    "    \n",
    "print(emot['0x336431'])\n"
   ]
  },
  {
   "cell_type": "code",
   "execution_count": 3,
   "id": "14d793e2",
   "metadata": {},
   "outputs": [
    {
     "name": "stdout",
     "output_type": "stream",
     "text": [
      "True\n",
      "False\n"
     ]
    }
   ],
   "source": [
    "data = (open(\"data_identification.csv\", 'r', encoding='utf-8'))\n",
    "train = {}\n",
    "test = {}\n",
    "#separate train and test\n",
    "for x in data:\n",
    "    s = x.split(',')\n",
    "    if s[1] == 'train\\n':\n",
    "        train[s[0]] = s[1]\n",
    "    if s[1] == 'test\\n':\n",
    "        test[s[0]] = s[1] \n",
    "print('0x336431' in train)\n",
    "print('0x336431' in test)"
   ]
  },
  {
   "cell_type": "code",
   "execution_count": 4,
   "id": "6327858a",
   "metadata": {},
   "outputs": [
    {
     "name": "stdout",
     "output_type": "stream",
     "text": [
      "{'_score': 391, '_index': 'hashtag_tweets', '_source': {'tweet': {'hashtags': ['Snapchat'], 'tweet_id': '0x376b20', 'text': 'People who post \"add me on #Snapchat\" must be dehydrated. Cuz man.... that\\'s <LH>'}}, '_crawldate': '2015-05-23 11:42:47', '_type': 'tweets'}\n"
     ]
    }
   ],
   "source": [
    "print(tweet[0])"
   ]
  },
  {
   "cell_type": "code",
   "execution_count": 4,
   "id": "cac113f1",
   "metadata": {},
   "outputs": [],
   "source": [
    "import pandas as pd\n",
    "\n",
    "X_train = []\n",
    "Y_train = []\n",
    "X_test = []\n",
    "ylabel = []\n",
    "\n",
    "#get the text\n",
    "for x in tweet:\n",
    "    if x['_source']['tweet']['tweet_id'] in train:\n",
    "        X_train.append({'score':x['_score'],'text':x['_source']['tweet']['text']})\n",
    "        Y_train.append({'emotion':emot[x['_source']['tweet']['tweet_id']]})\n",
    "    else:\n",
    "        X_test.append({'score':x['_score'],'text':x['_source']['tweet']['text']})\n",
    "        ylabel.append(x['_source']['tweet']['tweet_id'])\n",
    "\n",
    "\n",
    "    "
   ]
  },
  {
   "cell_type": "code",
   "execution_count": 5,
   "id": "1a2a8346",
   "metadata": {},
   "outputs": [
    {
     "name": "stdout",
     "output_type": "stream",
     "text": [
      "1455563\n",
      "1455563\n",
      "411972\n",
      "411972\n"
     ]
    },
    {
     "name": "stderr",
     "output_type": "stream",
     "text": [
      "C:\\Users\\james\\anaconda3\\lib\\site-packages\\sklearn\\feature_extraction\\text.py:489: UserWarning: The parameter 'token_pattern' will not be used since 'tokenizer' is not None'\n",
      "  warnings.warn(\"The parameter 'token_pattern' will not be used\"\n"
     ]
    }
   ],
   "source": [
    "from sklearn.feature_extraction.text import CountVectorizer\n",
    "import nltk\n",
    "print(len(X_train))\n",
    "print(len(Y_train))\n",
    "print(len(X_test))\n",
    "print(len(ylabel))\n",
    "\n",
    "tweet = []\n",
    "xtrain = pd.DataFrame(X_train)\n",
    "ytrain = pd.DataFrame(Y_train)\n",
    "xtest = pd.DataFrame(X_test)\n",
    "ytrain = ytrain.to_numpy()\n",
    "\n",
    "#use the BOW\n",
    "BOW_500 = CountVectorizer(max_features=500, tokenizer=nltk.word_tokenize) \n",
    "\n",
    "BOW_500.fit(xtrain['text'])\n",
    "xtrain = BOW_500.transform(xtrain['text'])\n",
    "xtest = BOW_500.transform(xtest['text'])"
   ]
  },
  {
   "cell_type": "code",
   "execution_count": 6,
   "id": "9b75e633",
   "metadata": {},
   "outputs": [
    {
     "name": "stderr",
     "output_type": "stream",
     "text": [
      "C:\\Users\\james\\anaconda3\\lib\\site-packages\\sklearn\\utils\\validation.py:63: DataConversionWarning: A column-vector y was passed when a 1d array was expected. Please change the shape of y to (n_samples, ), for example using ravel().\n",
      "  return f(*args, **kwargs)\n"
     ]
    }
   ],
   "source": [
    "from sklearn.preprocessing import LabelEncoder\n",
    "import keras\n",
    "\n",
    "ytrain = pd.DataFrame(Y_train)\n",
    "\n",
    "#use label encoder \n",
    "label_encoder = LabelEncoder()\n",
    "label_encoder.fit(ytrain)\n",
    "enc = label_encoder.transform(ytrain)\n",
    "ytrain = keras.utils.to_categorical(enc)\n"
   ]
  },
  {
   "cell_type": "code",
   "execution_count": 7,
   "id": "fb7efb8e",
   "metadata": {},
   "outputs": [
    {
     "name": "stdout",
     "output_type": "stream",
     "text": [
      "<class 'scipy.sparse.csr.csr_matrix'>\n",
      "<class 'numpy.ndarray'>\n",
      "Model: \"DNN\"\n",
      "_________________________________________________________________\n",
      "Layer (type)                 Output Shape              Param #   \n",
      "=================================================================\n",
      "input_1 (InputLayer)         [(None, 500)]             0         \n",
      "_________________________________________________________________\n",
      "dense (Dense)                (None, 128)               64128     \n",
      "_________________________________________________________________\n",
      "dense_1 (Dense)              (None, 128)               16512     \n",
      "_________________________________________________________________\n",
      "dense_2 (Dense)              (None, 64)                8256      \n",
      "_________________________________________________________________\n",
      "dense_3 (Dense)              (None, 64)                4160      \n",
      "_________________________________________________________________\n",
      "dense_4 (Dense)              (None, 64)                4160      \n",
      "_________________________________________________________________\n",
      "dense_5 (Dense)              (None, 64)                4160      \n",
      "_________________________________________________________________\n",
      "dense_6 (Dense)              (None, 32)                2080      \n",
      "_________________________________________________________________\n",
      "dense_7 (Dense)              (None, 32)                1056      \n",
      "_________________________________________________________________\n",
      "dense_8 (Dense)              (None, 8)                 264       \n",
      "=================================================================\n",
      "Total params: 104,776\n",
      "Trainable params: 104,776\n",
      "Non-trainable params: 0\n",
      "_________________________________________________________________\n",
      "Epoch 1/50\n",
      "40625/40625 [==============================] - 164s 4ms/step - loss: 1.4756 - accuracy: 0.4635 - val_loss: 1.3952 - val_accuracy: 0.4940\n",
      "Epoch 2/50\n",
      "40625/40625 [==============================] - 163s 4ms/step - loss: 1.3814 - accuracy: 0.4975 - val_loss: 1.3813 - val_accuracy: 0.4991\n",
      "Epoch 3/50\n",
      "40625/40625 [==============================] - 160s 4ms/step - loss: 1.3640 - accuracy: 0.5054 - val_loss: 1.3701 - val_accuracy: 0.5030\n",
      "Epoch 4/50\n",
      "40625/40625 [==============================] - 163s 4ms/step - loss: 1.3511 - accuracy: 0.5091 - val_loss: 1.3710 - val_accuracy: 0.5023\n",
      "Epoch 5/50\n",
      "40625/40625 [==============================] - 163s 4ms/step - loss: 1.3440 - accuracy: 0.5132 - val_loss: 1.3696 - val_accuracy: 0.5034\n",
      "Epoch 6/50\n",
      "40625/40625 [==============================] - 163s 4ms/step - loss: 1.3369 - accuracy: 0.5150 - val_loss: 1.3663 - val_accuracy: 0.5060\n",
      "Epoch 7/50\n",
      "40625/40625 [==============================] - 163s 4ms/step - loss: 1.3335 - accuracy: 0.5171 - val_loss: 1.3646 - val_accuracy: 0.5035\n",
      "Epoch 8/50\n",
      "40625/40625 [==============================] - 164s 4ms/step - loss: 1.3272 - accuracy: 0.5188 - val_loss: 1.3632 - val_accuracy: 0.5059\n",
      "Epoch 9/50\n",
      "40625/40625 [==============================] - 161s 4ms/step - loss: 1.3244 - accuracy: 0.5201 - val_loss: 1.3685 - val_accuracy: 0.5054\n",
      "Epoch 10/50\n",
      "40625/40625 [==============================] - 164s 4ms/step - loss: 1.3217 - accuracy: 0.5215 - val_loss: 1.3681 - val_accuracy: 0.5065\n",
      "Epoch 11/50\n",
      "40625/40625 [==============================] - 163s 4ms/step - loss: 1.3193 - accuracy: 0.5225 - val_loss: 1.3705 - val_accuracy: 0.5057\n",
      "Epoch 12/50\n",
      "40625/40625 [==============================] - 163s 4ms/step - loss: 1.3177 - accuracy: 0.5231 - val_loss: 1.3673 - val_accuracy: 0.5058\n",
      "Epoch 13/50\n",
      "40625/40625 [==============================] - 164s 4ms/step - loss: 1.3150 - accuracy: 0.5245 - val_loss: 1.3662 - val_accuracy: 0.5056\n",
      "Epoch 14/50\n",
      "40625/40625 [==============================] - 164s 4ms/step - loss: 1.3129 - accuracy: 0.5250 - val_loss: 1.3725 - val_accuracy: 0.5065\n",
      "Epoch 15/50\n",
      "40625/40625 [==============================] - 163s 4ms/step - loss: 1.3104 - accuracy: 0.5262 - val_loss: 1.3691 - val_accuracy: 0.5057\n",
      "Epoch 16/50\n",
      "40625/40625 [==============================] - 162s 4ms/step - loss: 1.3090 - accuracy: 0.5272 - val_loss: 1.3825 - val_accuracy: 0.5030\n",
      "Epoch 17/50\n",
      "40625/40625 [==============================] - 164s 4ms/step - loss: 1.3093 - accuracy: 0.5270 - val_loss: 1.3870 - val_accuracy: 0.5043\n",
      "Epoch 18/50\n",
      "40625/40625 [==============================] - 163s 4ms/step - loss: 1.3074 - accuracy: 0.5274 - val_loss: 1.5068 - val_accuracy: 0.5049\n",
      "Epoch 19/50\n",
      "40625/40625 [==============================] - 163s 4ms/step - loss: 1.3068 - accuracy: 0.5278 - val_loss: 1.4121 - val_accuracy: 0.5041\n",
      "Epoch 20/50\n",
      "40625/40625 [==============================] - 164s 4ms/step - loss: 1.3048 - accuracy: 0.5289 - val_loss: 1.4200 - val_accuracy: 0.5053\n",
      "Epoch 21/50\n",
      "40625/40625 [==============================] - 164s 4ms/step - loss: 1.3036 - accuracy: 0.5289 - val_loss: 1.3974 - val_accuracy: 0.5036\n",
      "Epoch 22/50\n",
      "40625/40625 [==============================] - 164s 4ms/step - loss: 1.3020 - accuracy: 0.5307 - val_loss: 1.3803 - val_accuracy: 0.5042\n",
      "Epoch 23/50\n",
      "40625/40625 [==============================] - 165s 4ms/step - loss: 1.3013 - accuracy: 0.5296 - val_loss: 1.3901 - val_accuracy: 0.5037\n",
      "Epoch 24/50\n",
      "40625/40625 [==============================] - 164s 4ms/step - loss: 1.3011 - accuracy: 0.5311 - val_loss: 1.3852 - val_accuracy: 0.5021\n",
      "Epoch 25/50\n",
      "40625/40625 [==============================] - 160s 4ms/step - loss: 1.3002 - accuracy: 0.5307 - val_loss: 1.3996 - val_accuracy: 0.4973\n",
      "Epoch 26/50\n",
      "40625/40625 [==============================] - 160s 4ms/step - loss: 1.2987 - accuracy: 0.5309 - val_loss: 1.4071 - val_accuracy: 0.5028\n",
      "Epoch 27/50\n",
      "40625/40625 [==============================] - 161s 4ms/step - loss: 1.2974 - accuracy: 0.5321 - val_loss: 1.4420 - val_accuracy: 0.5037\n",
      "Epoch 28/50\n",
      "40625/40625 [==============================] - 163s 4ms/step - loss: 1.2960 - accuracy: 0.5318 - val_loss: 1.3954 - val_accuracy: 0.5010\n",
      "Epoch 29/50\n",
      "40625/40625 [==============================] - 164s 4ms/step - loss: 1.2971 - accuracy: 0.5316 - val_loss: 1.4416 - val_accuracy: 0.5025\n",
      "Epoch 30/50\n",
      "40625/40625 [==============================] - 163s 4ms/step - loss: 1.2933 - accuracy: 0.5337 - val_loss: 1.4564 - val_accuracy: 0.4989\n",
      "Epoch 31/50\n",
      "40625/40625 [==============================] - 163s 4ms/step - loss: 1.2954 - accuracy: 0.5332 - val_loss: 1.4487 - val_accuracy: 0.5002\n",
      "Epoch 32/50\n",
      "40625/40625 [==============================] - 162s 4ms/step - loss: 1.2976 - accuracy: 0.5323 - val_loss: 1.4442 - val_accuracy: 0.5015\n",
      "Epoch 33/50\n",
      "40625/40625 [==============================] - 164s 4ms/step - loss: 1.2963 - accuracy: 0.5331 - val_loss: 1.4470 - val_accuracy: 0.5027\n",
      "Epoch 34/50\n",
      "40625/40625 [==============================] - 163s 4ms/step - loss: 1.2927 - accuracy: 0.5339 - val_loss: 1.4514 - val_accuracy: 0.5031\n",
      "Epoch 35/50\n",
      "40625/40625 [==============================] - 161s 4ms/step - loss: 1.2927 - accuracy: 0.5354 - val_loss: 1.4095 - val_accuracy: 0.5033\n",
      "Epoch 36/50\n",
      "40625/40625 [==============================] - 164s 4ms/step - loss: 1.2909 - accuracy: 0.5357 - val_loss: 1.4281 - val_accuracy: 0.5011\n",
      "Epoch 37/50\n",
      "40625/40625 [==============================] - 163s 4ms/step - loss: 1.2918 - accuracy: 0.5352 - val_loss: 1.4151 - val_accuracy: 0.4986\n",
      "Epoch 38/50\n",
      "40625/40625 [==============================] - 160s 4ms/step - loss: 1.2911 - accuracy: 0.5358 - val_loss: 1.4274 - val_accuracy: 0.5022\n",
      "Epoch 39/50\n",
      "40625/40625 [==============================] - 160s 4ms/step - loss: 1.2938 - accuracy: 0.5352 - val_loss: 1.4476 - val_accuracy: 0.5006\n",
      "Epoch 40/50\n",
      "40625/40625 [==============================] - 161s 4ms/step - loss: 1.2972 - accuracy: 0.5355 - val_loss: 1.4749 - val_accuracy: 0.5012\n",
      "Epoch 41/50\n",
      "40625/40625 [==============================] - 160s 4ms/step - loss: 1.2937 - accuracy: 0.5353 - val_loss: 1.4674 - val_accuracy: 0.5022\n",
      "Epoch 42/50\n",
      "40625/40625 [==============================] - 160s 4ms/step - loss: 1.2916 - accuracy: 0.5353 - val_loss: 1.4265 - val_accuracy: 0.4956\n",
      "Epoch 43/50\n",
      "40625/40625 [==============================] - 160s 4ms/step - loss: 1.2913 - accuracy: 0.5360 - val_loss: 1.4666 - val_accuracy: 0.4983\n",
      "Epoch 44/50\n",
      "40625/40625 [==============================] - 160s 4ms/step - loss: 1.2930 - accuracy: 0.5357 - val_loss: 1.4530 - val_accuracy: 0.5019\n",
      "Epoch 45/50\n",
      "40625/40625 [==============================] - 163s 4ms/step - loss: 1.2906 - accuracy: 0.5360 - val_loss: 1.4436 - val_accuracy: 0.4978\n",
      "Epoch 46/50\n",
      "40625/40625 [==============================] - 163s 4ms/step - loss: 1.2905 - accuracy: 0.5369 - val_loss: 1.4532 - val_accuracy: 0.4966\n",
      "Epoch 47/50\n",
      "40625/40625 [==============================] - 160s 4ms/step - loss: 1.2887 - accuracy: 0.5375 - val_loss: 1.4834 - val_accuracy: 0.4986\n",
      "Epoch 48/50\n",
      "40625/40625 [==============================] - 160s 4ms/step - loss: 1.2905 - accuracy: 0.5364 - val_loss: 1.5036 - val_accuracy: 0.4953\n",
      "Epoch 49/50\n",
      "40625/40625 [==============================] - 160s 4ms/step - loss: 1.2898 - accuracy: 0.5361 - val_loss: 1.5505 - val_accuracy: 0.5011\n",
      "Epoch 50/50\n",
      "40625/40625 [==============================] - 161s 4ms/step - loss: 1.2917 - accuracy: 0.5355 - val_loss: 1.4803 - val_accuracy: 0.5007\n"
     ]
    }
   ],
   "source": [
    "from keras.models import *\n",
    "from keras.layers import *\n",
    "from keras.optimizers import *\n",
    "\n",
    "\n",
    "#DNN model\n",
    "\n",
    "def DNN(input_size=(500,)):\n",
    "    inputs = Input(input_size)\n",
    "    layer1 = Dense(units = 128, activation = 'relu')(inputs)\n",
    "    layer1 = Dense(units = 128, activation = 'relu')(layer1)\n",
    "    layer2 = Dense(units = 64, activation = 'relu')(layer1)\n",
    "    layer3 = Dense(units = 64, activation = 'relu')(layer2)\n",
    "    layer4 = Dense(units = 64, activation = 'relu')(layer3)\n",
    "    layer5 = Dense(units = 64, activation = 'relu')(layer4)\n",
    "    layer6 = Dense(units = 32, activation = 'relu')(layer5)\n",
    "    layer7 = Dense(units = 32, activation = 'relu')(layer6)\n",
    "    output = Dense(units = 8, activation = 'softmax')(layer7)\n",
    "    \n",
    "    model = Model(inputs = inputs, outputs = output)\n",
    "    model.compile(optimizer = 'adam', loss = 'categorical_crossentropy', metrics = ['accuracy'])\n",
    "    \n",
    "    model._name = 'DNN'\n",
    "    model.summary()\n",
    "    \n",
    "    return model\n",
    "\n",
    "\n",
    "print(type(xtrain))\n",
    "print(type(ytrain))\n",
    "model = DNN()\n",
    "history = model.fit(xtrain[:1300000], ytrain[:1300000], \n",
    "                    epochs=50, \n",
    "                    batch_size=32,\n",
    "                    validation_data = (xtrain[1300000:], ytrain[1300000:]),\n",
    "                    verbose = 1)"
   ]
  },
  {
   "cell_type": "code",
   "execution_count": 8,
   "id": "d2ccae8a",
   "metadata": {},
   "outputs": [
    {
     "name": "stdout",
     "output_type": "stream",
     "text": [
      "[0.0033178  0.5455816  0.00628822 0.01386668 0.32124355 0.01897665\n",
      " 0.00836533 0.08236027]\n",
      "anticipation\n"
     ]
    }
   ],
   "source": [
    "#predict the result\n",
    "result = model.predict(xtest)\n",
    "print(result[0])\n",
    "dec = np.argmax(result, axis=1)\n",
    "predict = label_encoder.inverse_transform(dec)\n",
    "print(predict[0])"
   ]
  },
  {
   "cell_type": "code",
   "execution_count": 9,
   "id": "4911888c",
   "metadata": {},
   "outputs": [],
   "source": [
    "import csv\n",
    "\n",
    "file = open(\"submission_example.csv\",'w',encoding = 'utf-8',newline = '')\n",
    "f = csv.writer(file)\n",
    "f.writerow(['id', 'emotion'])\n",
    "for i in range(len(predict)):\n",
    "    f.writerow([ylabel[i],predict[i]])\n",
    "file.close()"
   ]
  },
  {
   "cell_type": "code",
   "execution_count": 10,
   "id": "312f938f",
   "metadata": {},
   "outputs": [],
   "source": []
  }
 ],
 "metadata": {
  "kernelspec": {
   "display_name": "Python 3",
   "language": "python",
   "name": "python3"
  },
  "language_info": {
   "codemirror_mode": {
    "name": "ipython",
    "version": 3
   },
   "file_extension": ".py",
   "mimetype": "text/x-python",
   "name": "python",
   "nbconvert_exporter": "python",
   "pygments_lexer": "ipython3",
   "version": "3.8.10"
  }
 },
 "nbformat": 4,
 "nbformat_minor": 5
}
