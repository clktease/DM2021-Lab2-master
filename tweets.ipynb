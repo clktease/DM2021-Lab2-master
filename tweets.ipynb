{
 "cells": [
  {
   "cell_type": "code",
   "execution_count": 1,
   "id": "993a5ec4",
   "metadata": {},
   "outputs": [
    {
     "name": "stdout",
     "output_type": "stream",
     "text": [
      "1 Physical GPUs, 1 Logical GPUs\n",
      "1867535\n"
     ]
    }
   ],
   "source": [
    "import numpy as np\n",
    "import json\n",
    "import tensorflow as tf\n",
    "\n",
    "\n",
    "gpus = tf.config.experimental.list_physical_devices('GPU')\n",
    "if gpus:\n",
    "    # Restrict TensorFlow to only allocate 5GB of memory on the first GPU\n",
    "    try:\n",
    "        tf.config.experimental.set_virtual_device_configuration(\n",
    "        gpus[0],\n",
    "        [tf.config.experimental.VirtualDeviceConfiguration(memory_limit=5120)])\n",
    "        logical_gpus = tf.config.experimental.list_logical_devices('GPU')\n",
    "        print(len(gpus), \"Physical GPUs,\", len(logical_gpus), \"Logical GPUs\")\n",
    "    except RuntimeError as e:\n",
    "        # Virtual devices must be set before GPUs have been initialized\n",
    "        print(e)\n",
    " \n",
    "\n",
    "file = open(\"tweets_DM.json\", 'r', encoding='utf-8')\n",
    "tweet = []\n",
    "for line in file.readlines():\n",
    "    t = json.loads(line)\n",
    "    tweet.append(t)\n",
    "\n",
    "print(len(tweet))\n",
    "\n"
   ]
  },
  {
   "cell_type": "code",
   "execution_count": 2,
   "id": "305c39bb",
   "metadata": {},
   "outputs": [
    {
     "name": "stdout",
     "output_type": "stream",
     "text": [
      "trust\n"
     ]
    }
   ],
   "source": [
    "emo = (open(\"emotion.csv\", 'r', encoding='utf-8'))\n",
    "emot = {}\n",
    "\n",
    "for x in emo:\n",
    "    s = x.split(',')\n",
    "    emot[s[0]] = s[1].split('\\n')[0] \n",
    "    \n",
    "print(emot['0x336431'])\n"
   ]
  },
  {
   "cell_type": "code",
   "execution_count": 3,
   "id": "14d793e2",
   "metadata": {},
   "outputs": [
    {
     "name": "stdout",
     "output_type": "stream",
     "text": [
      "True\n",
      "False\n"
     ]
    }
   ],
   "source": [
    "data = (open(\"data_identification.csv\", 'r', encoding='utf-8'))\n",
    "train = {}\n",
    "test = {}\n",
    "for x in data:\n",
    "    s = x.split(',')\n",
    "    if s[1] == 'train\\n':\n",
    "        train[s[0]] = s[1]\n",
    "    if s[1] == 'test\\n':\n",
    "        test[s[0]] = s[1] \n",
    "print('0x336431' in train)\n",
    "print('0x336431' in test)"
   ]
  },
  {
   "cell_type": "code",
   "execution_count": 4,
   "id": "6327858a",
   "metadata": {},
   "outputs": [
    {
     "name": "stdout",
     "output_type": "stream",
     "text": [
      "{'_score': 391, '_index': 'hashtag_tweets', '_source': {'tweet': {'hashtags': ['Snapchat'], 'tweet_id': '0x376b20', 'text': 'People who post \"add me on #Snapchat\" must be dehydrated. Cuz man.... that\\'s <LH>'}}, '_crawldate': '2015-05-23 11:42:47', '_type': 'tweets'}\n"
     ]
    }
   ],
   "source": [
    "print(tweet[0])"
   ]
  },
  {
   "cell_type": "code",
   "execution_count": 4,
   "id": "cac113f1",
   "metadata": {},
   "outputs": [],
   "source": [
    "import pandas as pd\n",
    "\n",
    "X_train = []\n",
    "Y_train = []\n",
    "X_test = []\n",
    "ylabel = []\n",
    "\n",
    "for x in tweet:\n",
    "    if x['_source']['tweet']['tweet_id'] in train:\n",
    "        X_train.append({'score':x['_score'],'text':x['_source']['tweet']['text']})\n",
    "        Y_train.append({'emotion':emot[x['_source']['tweet']['tweet_id']]})\n",
    "    else:\n",
    "        X_test.append({'score':x['_score'],'text':x['_source']['tweet']['text']})\n",
    "        ylabel.append(x['_source']['tweet']['tweet_id'])\n",
    "\n",
    "\n",
    "    "
   ]
  },
  {
   "cell_type": "code",
   "execution_count": 7,
   "id": "1a2a8346",
   "metadata": {},
   "outputs": [
    {
     "name": "stdout",
     "output_type": "stream",
     "text": [
      "1455563\n",
      "1455563\n",
      "411972\n",
      "411972\n"
     ]
    },
    {
     "name": "stderr",
     "output_type": "stream",
     "text": [
      "C:\\Users\\james\\anaconda3\\lib\\site-packages\\sklearn\\feature_extraction\\text.py:489: UserWarning: The parameter 'token_pattern' will not be used since 'tokenizer' is not None'\n",
      "  warnings.warn(\"The parameter 'token_pattern' will not be used\"\n"
     ]
    }
   ],
   "source": [
    "from sklearn.feature_extraction.text import CountVectorizer\n",
    "import nltk\n",
    "print(len(X_train))\n",
    "print(len(Y_train))\n",
    "print(len(X_test))\n",
    "print(len(ylabel))\n",
    "\n",
    "tweet = []\n",
    "xtrain = pd.DataFrame(X_train)\n",
    "ytrain = pd.DataFrame(Y_train)\n",
    "xtest = pd.DataFrame(X_test)\n",
    "ytrain = ytrain.to_numpy()\n",
    "\n",
    "BOW_500 = CountVectorizer(max_features=500, tokenizer=nltk.word_tokenize) \n",
    "\n",
    "BOW_500.fit(xtrain['text'])\n",
    "xtrain = BOW_500.transform(xtrain['text'])\n",
    "xtest = BOW_500.transform(xtest['text'])"
   ]
  },
  {
   "cell_type": "code",
   "execution_count": 8,
   "id": "9b75e633",
   "metadata": {},
   "outputs": [
    {
     "name": "stderr",
     "output_type": "stream",
     "text": [
      "C:\\Users\\james\\anaconda3\\lib\\site-packages\\sklearn\\utils\\validation.py:63: DataConversionWarning: A column-vector y was passed when a 1d array was expected. Please change the shape of y to (n_samples, ), for example using ravel().\n",
      "  return f(*args, **kwargs)\n"
     ]
    }
   ],
   "source": [
    "from sklearn.preprocessing import LabelEncoder\n",
    "import keras\n",
    "\n",
    "ytrain = pd.DataFrame(Y_train)\n",
    "\n",
    "label_encoder = LabelEncoder()\n",
    "label_encoder.fit(ytrain)\n",
    "enc = label_encoder.transform(ytrain)\n",
    "ytrain = keras.utils.to_categorical(enc)\n"
   ]
  },
  {
   "cell_type": "code",
   "execution_count": 10,
   "id": "fb7efb8e",
   "metadata": {},
   "outputs": [
    {
     "name": "stdout",
     "output_type": "stream",
     "text": [
      "<class 'scipy.sparse.csr.csr_matrix'>\n",
      "<class 'numpy.ndarray'>\n",
      "Model: \"DNN\"\n",
      "_________________________________________________________________\n",
      "Layer (type)                 Output Shape              Param #   \n",
      "=================================================================\n",
      "input_2 (InputLayer)         [(None, 500)]             0         \n",
      "_________________________________________________________________\n",
      "dense_6 (Dense)              (None, 128)               64128     \n",
      "_________________________________________________________________\n",
      "dense_7 (Dense)              (None, 64)                8256      \n",
      "_________________________________________________________________\n",
      "dense_8 (Dense)              (None, 64)                4160      \n",
      "_________________________________________________________________\n",
      "dense_9 (Dense)              (None, 64)                4160      \n",
      "_________________________________________________________________\n",
      "dense_10 (Dense)             (None, 64)                4160      \n",
      "_________________________________________________________________\n",
      "dense_11 (Dense)             (None, 8)                 520       \n",
      "=================================================================\n",
      "Total params: 85,384\n",
      "Trainable params: 85,384\n",
      "Non-trainable params: 0\n",
      "_________________________________________________________________\n",
      "Epoch 1/10\n",
      "45487/45487 [==============================] - 151s 3ms/step - loss: 1.4490 - accuracy: 0.4716\n",
      "Epoch 2/10\n",
      "45487/45487 [==============================] - 147s 3ms/step - loss: 1.3710 - accuracy: 0.5001\n",
      "Epoch 3/10\n",
      "45487/45487 [==============================] - 150s 3ms/step - loss: 1.3545 - accuracy: 0.5072\n",
      "Epoch 4/10\n",
      "45487/45487 [==============================] - 159s 3ms/step - loss: 1.3427 - accuracy: 0.5122\n",
      "Epoch 5/10\n",
      "45487/45487 [==============================] - 151s 3ms/step - loss: 1.3381 - accuracy: 0.5134\n",
      "Epoch 6/10\n",
      "45487/45487 [==============================] - 149s 3ms/step - loss: 1.3322 - accuracy: 0.5160\n",
      "Epoch 7/10\n",
      "45487/45487 [==============================] - 151s 3ms/step - loss: 1.3304 - accuracy: 0.5174\n",
      "Epoch 8/10\n",
      "45487/45487 [==============================] - 149s 3ms/step - loss: 1.3261 - accuracy: 0.5187\n",
      "Epoch 9/10\n",
      "45487/45487 [==============================] - 149s 3ms/step - loss: 1.3238 - accuracy: 0.5198\n",
      "Epoch 10/10\n",
      "45487/45487 [==============================] - 152s 3ms/step - loss: 1.3213 - accuracy: 0.5213\n"
     ]
    }
   ],
   "source": [
    "from keras.models import *\n",
    "from keras.layers import *\n",
    "from keras.optimizers import *\n",
    "\n",
    "\n",
    " \n",
    "\n",
    "def DNN(input_size=(500,)):\n",
    "    inputs = Input(input_size)\n",
    "    layer1 = Dense(units = 128, activation = 'relu')(inputs)\n",
    "    layer2 = Dense(units = 64, activation = 'relu')(layer1)\n",
    "    layer3 = Dense(units = 64, activation = 'relu')(layer2)\n",
    "    layer4 = Dense(units = 64, activation = 'relu')(layer3)\n",
    "    layer5 = Dense(units = 64, activation = 'relu')(layer4)\n",
    "    output = Dense(units = 8, activation = 'softmax')(layer5)\n",
    "    \n",
    "    model = Model(inputs = inputs, outputs = output)\n",
    "    model.compile(optimizer = 'adam', loss = 'categorical_crossentropy', metrics = ['accuracy'])\n",
    "    \n",
    "    model._name = 'DNN'\n",
    "    model.summary()\n",
    "    \n",
    "    return model\n",
    "\n",
    "\n",
    "print(type(xtrain))\n",
    "print(type(ytrain))\n",
    "model = DNN()\n",
    "history = model.fit(xtrain[:1300000], ytrain[:1300000], \n",
    "                    epochs=10, \n",
    "                    batch_size=32,\n",
    "                    validation_data = (xtrain[1300000:], ytrain[1300000:]),\n",
    "                    verbose = 1)"
   ]
  },
  {
   "cell_type": "code",
   "execution_count": 11,
   "id": "d2ccae8a",
   "metadata": {},
   "outputs": [
    {
     "name": "stdout",
     "output_type": "stream",
     "text": [
      "[0.0008998  0.7112919  0.00167445 0.00253036 0.18896344 0.0055354\n",
      " 0.00236254 0.08674213]\n",
      "anticipation\n"
     ]
    }
   ],
   "source": [
    "result = model.predict(xtest)\n",
    "print(result[0])\n",
    "dec = np.argmax(result, axis=1)\n",
    "predict = label_encoder.inverse_transform(dec)\n",
    "print(predict[0])"
   ]
  },
  {
   "cell_type": "code",
   "execution_count": 14,
   "id": "4911888c",
   "metadata": {},
   "outputs": [],
   "source": [
    "import csv\n",
    "\n",
    "file = open(\"submission_example.csv\",'w',encoding = 'utf-8',newline = '')\n",
    "f = csv.writer(file)\n",
    "f.writerow(['id', 'emotion'])\n",
    "for i in range(len(predict)):\n",
    "    f.writerow([ylabel[i],predict[i]])\n",
    "file.close()"
   ]
  },
  {
   "cell_type": "code",
   "execution_count": 10,
   "id": "312f938f",
   "metadata": {},
   "outputs": [],
   "source": []
  }
 ],
 "metadata": {
  "kernelspec": {
   "display_name": "Python 3",
   "language": "python",
   "name": "python3"
  },
  "language_info": {
   "codemirror_mode": {
    "name": "ipython",
    "version": 3
   },
   "file_extension": ".py",
   "mimetype": "text/x-python",
   "name": "python",
   "nbconvert_exporter": "python",
   "pygments_lexer": "ipython3",
   "version": "3.8.10"
  }
 },
 "nbformat": 4,
 "nbformat_minor": 5
}
